{
 "cells": [
  {
   "cell_type": "code",
   "execution_count": 1,
   "metadata": {
    "collapsed": false
   },
   "outputs": [
    {
     "name": "stderr",
     "output_type": "stream",
     "text": [
      "Using TensorFlow backend.\n"
     ]
    }
   ],
   "source": [
    "import random\n",
    "import gym\n",
    "import numpy as np\n",
    "from collections import deque\n",
    "\n",
    "from keras.models import Sequential\n",
    "from keras.layers import Dense\n",
    "from keras.optimizers import Adam"
   ]
  },
  {
   "cell_type": "code",
   "execution_count": 2,
   "metadata": {
    "collapsed": true
   },
   "outputs": [],
   "source": [
    "import matplotlib.pyplot as plt"
   ]
  },
  {
   "cell_type": "code",
   "execution_count": 3,
   "metadata": {
    "collapsed": true
   },
   "outputs": [],
   "source": [
    "class DQNAgent:\n",
    "    def __init__(self, state_size, action_size, gamma=0.95, epsilon=1.0,\n",
    "                 epsilon_min=0.01, epsilon_decay=0.995, learning_rate=0.001):\n",
    "        self.state_size = state_size\n",
    "        self.action_size = action_size\n",
    "        self.memory = deque(maxlen=2000)\n",
    "        self.gamma = gamma  # discount rate\n",
    "        self.epsilon = epsilon  # exploration rate\n",
    "        self.epsilon_min = epsilon_min\n",
    "        self.epsilon_decay = epsilon_decay\n",
    "        self.learning_rate = learning_rate\n",
    "        self.model = self._build_model()\n",
    "\n",
    "    def _build_model(self):\n",
    "        # Neural Net for Deep-Q learning Model\n",
    "        model = Sequential()\n",
    "        model.add(Dense(24, input_dim=self.state_size, activation='relu'))\n",
    "        model.add(Dense(24, activation='relu'))\n",
    "        model.add(Dense(1, activation='linear'))\n",
    "        model.compile(loss='mse',\n",
    "                      optimizer=Adam(lr=self.learning_rate))\n",
    "        return model\n",
    "\n",
    "    def act(self, state):\n",
    "        state = np.reshape(state, [1, state_size])\n",
    "        result = self.model.predict(state)\n",
    "        return 0 if result < 0 else 1"
   ]
  },
  {
   "cell_type": "code",
   "execution_count": 4,
   "metadata": {
    "collapsed": true
   },
   "outputs": [],
   "source": [
    "def play_n_games(n_games=100):\n",
    "    memory = []\n",
    "    actions = []\n",
    "    results = np.array([])\n",
    "    for e in range(n_games):\n",
    "        state = env.reset()\n",
    "        local_memory = np.array([0,0,0,0])\n",
    "        local_actions = np.array([])\n",
    "        for time in range(500):\n",
    "            #env.render()\n",
    "            local_memory = np.vstack((local_memory, state))\n",
    "            action = agent.act(state)\n",
    "            local_actions = np.append(local_actions, action)\n",
    "            state, _, done, _ = env.step(action)\n",
    "            if done or time == 498:\n",
    "                memory.append(local_memory[1:])\n",
    "                actions.append(local_actions)\n",
    "                results = np.append(results, time)\n",
    "                break\n",
    "    return memory, actions, results"
   ]
  },
  {
   "cell_type": "code",
   "execution_count": 5,
   "metadata": {
    "collapsed": true
   },
   "outputs": [],
   "source": [
    "def games_to_train_data(memory, actions, results, benchmark):\n",
    "    train_batch = np.array([0,0,0,0])\n",
    "    train_labels = []\n",
    "    for local_memory, local_actions, result in zip(memory, actions, results):\n",
    "        train_batch = np.vstack((train_batch, np.array(local_memory)))\n",
    "        if result > benchmark:\n",
    "            local_labels = [-1 if x<=0 else 1 for x in local_actions]\n",
    "        else:\n",
    "            local_labels = [1 if x<=0 else -1 for x in local_actions]\n",
    "        train_labels = np.append(train_labels, local_labels)\n",
    "    return train_batch[1:], train_labels"
   ]
  },
  {
   "cell_type": "code",
   "execution_count": 11,
   "metadata": {
    "collapsed": false
   },
   "outputs": [
    {
     "name": "stderr",
     "output_type": "stream",
     "text": [
      "[2017-10-14 14:21:03,448] Making new env: CartPole-v1\n"
     ]
    }
   ],
   "source": [
    "env = gym.make('CartPole-v1')\n",
    "state_size = env.observation_space.shape[0]\n",
    "action_size = env.action_space.n\n",
    "agent = DQNAgent(state_size, action_size)"
   ]
  },
  {
   "cell_type": "code",
   "execution_count": 12,
   "metadata": {
    "collapsed": true
   },
   "outputs": [],
   "source": [
    "record = []\n",
    "i = 0\n",
    "benchmark = 0"
   ]
  },
  {
   "cell_type": "code",
   "execution_count": 13,
   "metadata": {
    "collapsed": false
   },
   "outputs": [
    {
     "name": "stdout",
     "output_type": "stream",
     "text": [
      "Current resulst: 8.6, variance: 0.92. This is try number: 1\n",
      "Current resulst: 9.64, variance: 11.950400000000002. This is try number: 2\n",
      "Current resulst: 178.28, variance: 11751.5616. This is try number: 3\n",
      "Current resulst: 18.58, variance: 120.72360000000002. This is try number: 4\n",
      "Current resulst: 73.98, variance: 3751.9796. This is try number: 5\n",
      "Current resulst: 77.46, variance: 4662.7284. This is try number: 6\n",
      "Current resulst: 124.16, variance: 8739.2544. This is try number: 7\n",
      "Current resulst: 59.78, variance: 749.8115999999999. This is try number: 8\n",
      "Current resulst: 74.14, variance: 7678.520400000001. This is try number: 9\n",
      "Current resulst: 85.48, variance: 5469.129599999999. This is try number: 10\n",
      "Current resulst: 57.4, variance: 641.7199999999999. This is try number: 11\n",
      "Current resulst: 42.18, variance: 609.8276000000001. This is try number: 12\n",
      "Current resulst: 44.08, variance: 1110.9136. This is try number: 13\n",
      "Current resulst: 91.96, variance: 3346.1184000000003. This is try number: 14\n",
      "Current resulst: 100.82, variance: 7698.7076. This is try number: 15\n",
      "Current resulst: 274.46, variance: 25333.168400000002. This is try number: 16\n",
      "Current resulst: 290.52, variance: 44095.0496. This is try number: 17\n",
      "Current resulst: 493.02, variance: 577.6995999999999. This is try number: 18\n",
      "Current resulst: 485.34, variance: 1510.0244. This is try number: 19\n",
      "Current resulst: 473.14, variance: 5749.720399999999. This is try number: 20\n",
      "Current resulst: 400.48, variance: 38044.1296. This is try number: 21\n",
      "Current resulst: 498.0, variance: 0.0. This is try number: 22\n",
      "Current resulst: 498.0, variance: 0.0. This is try number: 23\n",
      "Current resulst: 498.0, variance: 0.0. This is try number: 24\n",
      "Current resulst: 498.0, variance: 0.0. This is try number: 25\n",
      "CPU times: user 4min 8s, sys: 10.2 s, total: 4min 18s\n",
      "Wall time: 3min 18s\n"
     ]
    }
   ],
   "source": [
    "%%time\n",
    "t=0\n",
    "while i <= 200:\n",
    "    i += 1\n",
    "    memory, actions, results = play_n_games(n_games=50)\n",
    "    record.append((results.mean(), results.var()))\n",
    "    print('Current resulst: {}, variance: {}. This is try number: {}'.format(results.mean(), results.var(), i))              \n",
    "    benchmark = results.mean()\n",
    "    train_batch, train_labels = games_to_train_data(memory, actions, results, benchmark)\n",
    "    if benchmark != 498:\n",
    "        agent.model.fit(train_batch, train_labels, epochs=1, verbose=0)\n",
    "    else:\n",
    "        t += 1\n",
    "    if t == 4:\n",
    "        break"
   ]
  },
  {
   "cell_type": "code",
   "execution_count": 10,
   "metadata": {
    "collapsed": false
   },
   "outputs": [
    {
     "data": {
      "image/png": "[encoded data removed]",
      "text/plain": [
       "<matplotlib.figure.Figure at 0x7fba86b19390>"
      ]
     },
     "metadata": {},
     "output_type": "display_data"
    }
   ],
   "source": [
    "plt.plot([x[0] for x in record])\n",
    "plt.show()"
   ]
  },
  {
   "cell_type": "code",
   "execution_count": 14,
   "metadata": {
    "collapsed": false
   },
   "outputs": [
    {
     "name": "stdout",
     "output_type": "stream",
     "text": [
      "[ 498.  498.  498.  498.  498.  498.  498.  498.  498.  498.  498.  498.\n",
      "  498.  498.  498.  498.  498.  498.  498.  498.  498.  498.  498.  498.\n",
      "  498.  498.  498.  498.  498.  498.  498.  498.  498.  498.  498.  498.\n",
      "  498.  498.  498.  498.  498.  498.  498.  498.  498.  498.  498.  498.\n",
      "  498.  498.  498.  498.  498.  498.  498.  498.  498.  498.  498.  498.\n",
      "  498.  498.  498.  498.  498.  498.  498.  498.  498.  498.  498.  498.\n",
      "  498.  498.  498.  498.  498.  498.  498.  498.  498.  498.  498.  498.\n",
      "  498.  498.  498.  498.  498.  498.  498.  498.  498.  498.  498.  498.\n",
      "  498.  498.  498.  498.]\n",
      "CPU times: user 1min 8s, sys: 4.87 s, total: 1min 13s\n",
      "Wall time: 56.2 s\n"
     ]
    }
   ],
   "source": [
    "%%time\n",
    "_, _, res = play_n_games(n_games=100)\n",
    "print(res)"
   ]
  }
 ],
 "metadata": {
  "anaconda-cloud": {},
  "kernelspec": {
   "display_name": "Python [conda root]",
   "language": "python",
   "name": "conda-root-py"
  },
  "language_info": {
   "codemirror_mode": {
    "name": "ipython",
    "version": 3
   },
   "file_extension": ".py",
   "mimetype": "text/x-python",
   "name": "python",
   "nbconvert_exporter": "python",
   "pygments_lexer": "ipython3",
   "version": "3.5.2"
  }
 },
 "nbformat": 4,
 "nbformat_minor": 1
}
