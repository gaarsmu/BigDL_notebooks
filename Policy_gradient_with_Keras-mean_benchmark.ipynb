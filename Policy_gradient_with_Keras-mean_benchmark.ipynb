{
 "cells": [
  {
   "cell_type": "code",
   "execution_count": 1,
   "metadata": {
    "collapsed": false
   },
   "outputs": [
    {
     "name": "stderr",
     "output_type": "stream",
     "text": [
      "Using TensorFlow backend.\n"
     ]
    }
   ],
   "source": [
    "import random\n",
    "import gym\n",
    "import numpy as np\n",
    "from collections import deque\n",
    "\n",
    "from keras.models import Sequential\n",
    "from keras.layers import Dense\n",
    "from keras.optimizers import Adam"
   ]
  },
  {
   "cell_type": "code",
   "execution_count": 2,
   "metadata": {
    "collapsed": true
   },
   "outputs": [],
   "source": [
    "import matplotlib.pyplot as plt"
   ]
  },
  {
   "cell_type": "code",
   "execution_count": 3,
   "metadata": {
    "collapsed": true
   },
   "outputs": [],
   "source": [
    "class DQNAgent:\n",
    "    def __init__(self, state_size, action_size, gamma=0.95, epsilon=1.0,\n",
    "                 epsilon_min=0.01, epsilon_decay=0.995, learning_rate=0.001):\n",
    "        self.state_size = state_size\n",
    "        self.action_size = action_size\n",
    "        self.memory = deque(maxlen=2000)\n",
    "        self.gamma = gamma  # discount rate\n",
    "        self.epsilon = epsilon  # exploration rate\n",
    "        self.epsilon_min = epsilon_min\n",
    "        self.epsilon_decay = epsilon_decay\n",
    "        self.learning_rate = learning_rate\n",
    "        self.model = self._build_model()\n",
    "\n",
    "    def _build_model(self):\n",
    "        # Neural Net for Deep-Q learning Model\n",
    "        model = Sequential()\n",
    "        model.add(Dense(24, input_dim=self.state_size, activation='relu'))\n",
    "        model.add(Dense(24, activation='relu'))\n",
    "        model.add(Dense(1, activation='linear'))\n",
    "        model.compile(loss='mse',\n",
    "                      optimizer=Adam(lr=self.learning_rate))\n",
    "        return model\n",
    "\n",
    "    def act(self, state):\n",
    "        state = np.reshape(state, [1, state_size])\n",
    "        result = self.model.predict(state)\n",
    "        return 0 if result < 0 else 1"
   ]
  },
  {
   "cell_type": "code",
   "execution_count": 4,
   "metadata": {
    "collapsed": true
   },
   "outputs": [],
   "source": [
    "def play_n_games(n_games=100):\n",
    "    memory = []\n",
    "    actions = []\n",
    "    results = np.array([])\n",
    "    for e in range(n_games):\n",
    "        state = env.reset()\n",
    "        local_memory = np.array([0,0,0,0])\n",
    "        local_actions = np.array([])\n",
    "        for time in range(500):\n",
    "            #env.render()\n",
    "            local_memory = np.vstack((local_memory, state))\n",
    "            action = agent.act(state)\n",
    "            local_actions = np.append(local_actions, action)\n",
    "            state, _, done, _ = env.step(action)\n",
    "            if done or time == 498:\n",
    "                memory.append(local_memory[1:])\n",
    "                actions.append(local_actions)\n",
    "                results = np.append(results, time)\n",
    "                break\n",
    "    return memory, actions, results"
   ]
  },
  {
   "cell_type": "code",
   "execution_count": 5,
   "metadata": {
    "collapsed": true
   },
   "outputs": [],
   "source": [
    "def games_to_train_data(memory, actions, results, benchmark):\n",
    "    train_batch = np.array([0,0,0,0])\n",
    "    train_labels = []\n",
    "    for local_memory, local_actions, result in zip(memory, actions, results):\n",
    "        train_batch = np.vstack((train_batch, np.array(local_memory)))\n",
    "        if result > benchmark:\n",
    "            local_labels = [-1 if x<=0 else 1 for x in local_actions]\n",
    "        else:\n",
    "            local_labels = [1 if x<=0 else -1 for x in local_actions]\n",
    "        train_labels = np.append(train_labels, local_labels)\n",
    "    return train_batch[1:], train_labels"
   ]
  },
  {
   "cell_type": "code",
   "execution_count": 6,
   "metadata": {
    "collapsed": false
   },
   "outputs": [
    {
     "name": "stderr",
     "output_type": "stream",
     "text": [
      "[2017-09-17 23:35:26,813] Making new env: CartPole-v1\n"
     ]
    }
   ],
   "source": [
    "env = gym.make('CartPole-v1')\n",
    "state_size = env.observation_space.shape[0]\n",
    "action_size = env.action_space.n\n",
    "agent = DQNAgent(state_size, action_size)"
   ]
  },
  {
   "cell_type": "code",
   "execution_count": 7,
   "metadata": {
    "collapsed": true
   },
   "outputs": [],
   "source": [
    "record = []\n",
    "i = 0\n",
    "benchmark = 0"
   ]
  },
  {
   "cell_type": "code",
   "execution_count": 8,
   "metadata": {
    "collapsed": false
   },
   "outputs": [
    {
     "name": "stdout",
     "output_type": "stream",
     "text": [
      "Current resulst: 8.38, variance: 0.5156000000000001. This is try number1\n",
      "Current resulst: 28.26, variance: 306.5524. This is try number2\n",
      "Current resulst: 102.24, variance: 4303.9424. This is try number3\n",
      "Current resulst: 78.18, variance: 2056.5076000000004. This is try number4\n",
      "Current resulst: 94.9, variance: 5784.050000000001. This is try number5\n",
      "Current resulst: 116.86, variance: 1915.1203999999998. This is try number6\n",
      "Current resulst: 112.78, variance: 1519.6515999999997. This is try number7\n",
      "Current resulst: 118.88, variance: 3895.9856. This is try number8\n",
      "Current resulst: 177.72, variance: 1339.0016. This is try number9\n",
      "Current resulst: 145.3, variance: 16364.369999999997. This is try number10\n",
      "Current resulst: 166.18, variance: 7305.067600000001. This is try number11\n",
      "Current resulst: 184.82, variance: 2713.7476. This is try number12\n",
      "Current resulst: 46.96, variance: 1077.5184. This is try number13\n",
      "Current resulst: 66.0, variance: 2806.16. This is try number14\n",
      "Current resulst: 153.56, variance: 3891.6063999999997. This is try number15\n",
      "Current resulst: 171.96, variance: 11432.598399999999. This is try number16\n",
      "Current resulst: 234.72, variance: 33607.5216. This is try number17\n",
      "Current resulst: 176.42, variance: 20600.2036. This is try number18\n",
      "Current resulst: 214.96, variance: 29360.438399999995. This is try number19\n",
      "Current resulst: 407.42, variance: 24597.123600000003. This is try number20\n",
      "Current resulst: 393.94, variance: 23005.776399999995. This is try number21\n",
      "Current resulst: 250.48, variance: 49683.80960000001. This is try number22\n",
      "Current resulst: 316.14, variance: 53973.60039999999. This is try number23\n",
      "Current resulst: 264.22, variance: 44979.771599999985. This is try number24\n",
      "Current resulst: 268.24, variance: 48385.6224. This is try number25\n",
      "Current resulst: 401.92, variance: 30260.7536. This is try number26\n",
      "Current resulst: 275.22, variance: 42047.291600000004. This is try number27\n",
      "Current resulst: 238.92, variance: 53556.15360000001. This is try number28\n",
      "Current resulst: 261.7, variance: 48669.65. This is try number29\n",
      "Current resulst: 498.0, variance: 0.0. This is try number30\n",
      "Current resulst: 498.0, variance: 0.0. This is try number31\n",
      "Current resulst: 498.0, variance: 0.0. This is try number32\n",
      "Current resulst: 498.0, variance: 0.0. This is try number33\n",
      "Current resulst: 498.0, variance: 0.0. This is try number34\n",
      "Current resulst: 498.0, variance: 0.0. This is try number35\n",
      "Current resulst: 498.0, variance: 0.0. This is try number36\n",
      "Current resulst: 488.32, variance: 4591.4176. This is try number37\n",
      "Current resulst: 498.0, variance: 0.0. This is try number38\n",
      "Current resulst: 498.0, variance: 0.0. This is try number39\n",
      "Current resulst: 498.0, variance: 0.0. This is try number40\n",
      "Current resulst: 498.0, variance: 0.0. This is try number41\n",
      "Current resulst: 498.0, variance: 0.0. This is try number42\n",
      "Current resulst: 498.0, variance: 0.0. This is try number43\n",
      "Current resulst: 498.0, variance: 0.0. This is try number44\n",
      "Current resulst: 498.0, variance: 0.0. This is try number45\n",
      "Current resulst: 498.0, variance: 0.0. This is try number46\n",
      "Current resulst: 498.0, variance: 0.0. This is try number47\n",
      "Current resulst: 498.0, variance: 0.0. This is try number48\n",
      "Current resulst: 498.0, variance: 0.0. This is try number49\n",
      "Current resulst: 498.0, variance: 0.0. This is try number50\n",
      "Current resulst: 498.0, variance: 0.0. This is try number51\n",
      "Current resulst: 498.0, variance: 0.0. This is try number52\n",
      "Current resulst: 498.0, variance: 0.0. This is try number53\n",
      "Current resulst: 498.0, variance: 0.0. This is try number54\n",
      "Current resulst: 498.0, variance: 0.0. This is try number55\n",
      "Current resulst: 498.0, variance: 0.0. This is try number56\n",
      "Current resulst: 498.0, variance: 0.0. This is try number57\n",
      "Current resulst: 498.0, variance: 0.0. This is try number58\n",
      "Current resulst: 498.0, variance: 0.0. This is try number59\n",
      "Current resulst: 498.0, variance: 0.0. This is try number60\n",
      "Current resulst: 498.0, variance: 0.0. This is try number61\n",
      "Current resulst: 498.0, variance: 0.0. This is try number62\n",
      "Current resulst: 498.0, variance: 0.0. This is try number63\n",
      "Current resulst: 498.0, variance: 0.0. This is try number64\n",
      "Current resulst: 498.0, variance: 0.0. This is try number65\n",
      "Current resulst: 498.0, variance: 0.0. This is try number66\n",
      "Current resulst: 498.0, variance: 0.0. This is try number67\n",
      "Current resulst: 498.0, variance: 0.0. This is try number68\n",
      "Current resulst: 498.0, variance: 0.0. This is try number69\n",
      "Current resulst: 498.0, variance: 0.0. This is try number70\n",
      "Current resulst: 498.0, variance: 0.0. This is try number71\n",
      "Current resulst: 498.0, variance: 0.0. This is try number72\n",
      "Current resulst: 498.0, variance: 0.0. This is try number73\n",
      "Current resulst: 498.0, variance: 0.0. This is try number74\n",
      "Current resulst: 498.0, variance: 0.0. This is try number75\n",
      "Current resulst: 498.0, variance: 0.0. This is try number76\n",
      "Current resulst: 498.0, variance: 0.0. This is try number77\n",
      "Current resulst: 498.0, variance: 0.0. This is try number78\n",
      "Current resulst: 498.0, variance: 0.0. This is try number79\n",
      "Current resulst: 498.0, variance: 0.0. This is try number80\n",
      "Current resulst: 498.0, variance: 0.0. This is try number81\n",
      "Current resulst: 498.0, variance: 0.0. This is try number82\n",
      "Current resulst: 498.0, variance: 0.0. This is try number83\n",
      "Current resulst: 498.0, variance: 0.0. This is try number84\n",
      "Current resulst: 498.0, variance: 0.0. This is try number85\n",
      "Current resulst: 498.0, variance: 0.0. This is try number86\n",
      "Current resulst: 498.0, variance: 0.0. This is try number87\n",
      "Current resulst: 498.0, variance: 0.0. This is try number88\n",
      "Current resulst: 498.0, variance: 0.0. This is try number89\n",
      "Current resulst: 498.0, variance: 0.0. This is try number90\n",
      "Current resulst: 498.0, variance: 0.0. This is try number91\n",
      "Current resulst: 498.0, variance: 0.0. This is try number92\n",
      "Current resulst: 498.0, variance: 0.0. This is try number93\n",
      "Current resulst: 498.0, variance: 0.0. This is try number94\n",
      "Current resulst: 498.0, variance: 0.0. This is try number95\n",
      "Current resulst: 498.0, variance: 0.0. This is try number96\n",
      "Current resulst: 498.0, variance: 0.0. This is try number97\n",
      "Current resulst: 498.0, variance: 0.0. This is try number98\n",
      "Current resulst: 498.0, variance: 0.0. This is try number99\n",
      "Current resulst: 498.0, variance: 0.0. This is try number100\n",
      "Current resulst: 498.0, variance: 0.0. This is try number101\n",
      "Current resulst: 498.0, variance: 0.0. This is try number102\n",
      "Current resulst: 498.0, variance: 0.0. This is try number103\n",
      "Current resulst: 498.0, variance: 0.0. This is try number104\n",
      "Current resulst: 498.0, variance: 0.0. This is try number105\n",
      "Current resulst: 498.0, variance: 0.0. This is try number106\n",
      "Current resulst: 498.0, variance: 0.0. This is try number107\n",
      "Current resulst: 498.0, variance: 0.0. This is try number108\n",
      "Current resulst: 498.0, variance: 0.0. This is try number109\n",
      "Current resulst: 498.0, variance: 0.0. This is try number110\n",
      "Current resulst: 498.0, variance: 0.0. This is try number111\n",
      "Current resulst: 498.0, variance: 0.0. This is try number112\n",
      "Current resulst: 498.0, variance: 0.0. This is try number113\n",
      "Current resulst: 498.0, variance: 0.0. This is try number114\n",
      "Current resulst: 498.0, variance: 0.0. This is try number115\n",
      "Current resulst: 498.0, variance: 0.0. This is try number116\n",
      "Current resulst: 498.0, variance: 0.0. This is try number117\n",
      "Current resulst: 498.0, variance: 0.0. This is try number118\n",
      "Current resulst: 498.0, variance: 0.0. This is try number119\n",
      "Current resulst: 498.0, variance: 0.0. This is try number120\n",
      "Current resulst: 498.0, variance: 0.0. This is try number121\n",
      "Current resulst: 498.0, variance: 0.0. This is try number122\n",
      "Current resulst: 498.0, variance: 0.0. This is try number123\n",
      "Current resulst: 498.0, variance: 0.0. This is try number124\n",
      "Current resulst: 498.0, variance: 0.0. This is try number125\n",
      "Current resulst: 498.0, variance: 0.0. This is try number126\n",
      "Current resulst: 498.0, variance: 0.0. This is try number127\n",
      "Current resulst: 498.0, variance: 0.0. This is try number128\n",
      "Current resulst: 498.0, variance: 0.0. This is try number129\n",
      "Current resulst: 498.0, variance: 0.0. This is try number130\n",
      "Current resulst: 498.0, variance: 0.0. This is try number131\n",
      "Current resulst: 498.0, variance: 0.0. This is try number132\n",
      "Current resulst: 498.0, variance: 0.0. This is try number133\n",
      "Current resulst: 498.0, variance: 0.0. This is try number134\n",
      "Current resulst: 498.0, variance: 0.0. This is try number135\n",
      "Current resulst: 498.0, variance: 0.0. This is try number136\n",
      "Current resulst: 498.0, variance: 0.0. This is try number137\n",
      "Current resulst: 498.0, variance: 0.0. This is try number138\n",
      "Current resulst: 498.0, variance: 0.0. This is try number139\n",
      "Current resulst: 498.0, variance: 0.0. This is try number140\n",
      "Current resulst: 498.0, variance: 0.0. This is try number141\n",
      "Current resulst: 498.0, variance: 0.0. This is try number142\n",
      "Current resulst: 498.0, variance: 0.0. This is try number143\n",
      "Current resulst: 498.0, variance: 0.0. This is try number144\n",
      "Current resulst: 498.0, variance: 0.0. This is try number145\n",
      "Current resulst: 498.0, variance: 0.0. This is try number146\n",
      "Current resulst: 498.0, variance: 0.0. This is try number147\n",
      "Current resulst: 498.0, variance: 0.0. This is try number148\n",
      "Current resulst: 498.0, variance: 0.0. This is try number149\n",
      "Current resulst: 498.0, variance: 0.0. This is try number150\n",
      "Current resulst: 498.0, variance: 0.0. This is try number151\n",
      "Current resulst: 498.0, variance: 0.0. This is try number152\n",
      "Current resulst: 498.0, variance: 0.0. This is try number153\n",
      "Current resulst: 498.0, variance: 0.0. This is try number154\n",
      "Current resulst: 498.0, variance: 0.0. This is try number155\n",
      "Current resulst: 498.0, variance: 0.0. This is try number156\n",
      "Current resulst: 498.0, variance: 0.0. This is try number157\n",
      "Current resulst: 498.0, variance: 0.0. This is try number158\n",
      "Current resulst: 498.0, variance: 0.0. This is try number159\n",
      "Current resulst: 498.0, variance: 0.0. This is try number160\n",
      "Current resulst: 498.0, variance: 0.0. This is try number161\n",
      "Current resulst: 498.0, variance: 0.0. This is try number162\n",
      "Current resulst: 498.0, variance: 0.0. This is try number163\n",
      "Current resulst: 498.0, variance: 0.0. This is try number164\n",
      "Current resulst: 498.0, variance: 0.0. This is try number165\n",
      "Current resulst: 498.0, variance: 0.0. This is try number166\n",
      "Current resulst: 498.0, variance: 0.0. This is try number167\n",
      "Current resulst: 498.0, variance: 0.0. This is try number168\n",
      "Current resulst: 498.0, variance: 0.0. This is try number169\n",
      "Current resulst: 498.0, variance: 0.0. This is try number170\n",
      "Current resulst: 498.0, variance: 0.0. This is try number171\n",
      "Current resulst: 498.0, variance: 0.0. This is try number172\n",
      "Current resulst: 498.0, variance: 0.0. This is try number173\n",
      "Current resulst: 498.0, variance: 0.0. This is try number174\n",
      "Current resulst: 498.0, variance: 0.0. This is try number175\n",
      "Current resulst: 498.0, variance: 0.0. This is try number176\n",
      "Current resulst: 498.0, variance: 0.0. This is try number177\n",
      "Current resulst: 498.0, variance: 0.0. This is try number178\n",
      "Current resulst: 498.0, variance: 0.0. This is try number179\n",
      "Current resulst: 498.0, variance: 0.0. This is try number180\n",
      "Current resulst: 498.0, variance: 0.0. This is try number181\n",
      "Current resulst: 498.0, variance: 0.0. This is try number182\n",
      "Current resulst: 498.0, variance: 0.0. This is try number183\n",
      "Current resulst: 498.0, variance: 0.0. This is try number184\n",
      "Current resulst: 498.0, variance: 0.0. This is try number185\n",
      "Current resulst: 498.0, variance: 0.0. This is try number186\n",
      "Current resulst: 498.0, variance: 0.0. This is try number187\n",
      "Current resulst: 498.0, variance: 0.0. This is try number188\n",
      "Current resulst: 498.0, variance: 0.0. This is try number189\n",
      "Current resulst: 498.0, variance: 0.0. This is try number190\n",
      "Current resulst: 498.0, variance: 0.0. This is try number191\n",
      "Current resulst: 498.0, variance: 0.0. This is try number192\n",
      "Current resulst: 498.0, variance: 0.0. This is try number193\n",
      "Current resulst: 498.0, variance: 0.0. This is try number194\n",
      "Current resulst: 498.0, variance: 0.0. This is try number195\n",
      "Current resulst: 498.0, variance: 0.0. This is try number196\n",
      "Current resulst: 498.0, variance: 0.0. This is try number197\n",
      "Current resulst: 498.0, variance: 0.0. This is try number198\n",
      "Current resulst: 498.0, variance: 0.0. This is try number199\n",
      "Current resulst: 498.0, variance: 0.0. This is try number200\n",
      "Current resulst: 498.0, variance: 0.0. This is try number201\n",
      "CPU times: user 1h 4min 57s, sys: 2min 47s, total: 1h 7min 44s\n",
      "Wall time: 53min 54s\n"
     ]
    }
   ],
   "source": [
    "%%time\n",
    "while i <= 200:\n",
    "    i += 1\n",
    "    memory, actions, results = play_n_games(n_games=50)\n",
    "    record.append((results.mean(), results.var()))\n",
    "    print('Current resulst: {}, variance: {}. This is try number{}'.format(results.mean(), results.var(), i))              \n",
    "    benchmark = results.mean()\n",
    "    train_batch, train_labels = games_to_train_data(memory, actions, results, benchmark)\n",
    "    if benchmark != 498:\n",
    "        agent.model.fit(train_batch, train_labels, epochs=1, verbose=0)"
   ]
  },
  {
   "cell_type": "code",
   "execution_count": 9,
   "metadata": {
    "collapsed": false
   },
   "outputs": [
    {
     "data": {
      "image/png": "[encoded data removed]",
      "text/plain": [
       "<matplotlib.figure.Figure at 0x7fee82957b00>"
      ]
     },
     "metadata": {},
     "output_type": "display_data"
    }
   ],
   "source": [
    "plt.plot([x[0] for x in record])\n",
    "plt.show()"
   ]
  },
  {
   "cell_type": "code",
   "execution_count": null,
   "metadata": {
    "collapsed": true
   },
   "outputs": [],
   "source": []
  }
 ],
 "metadata": {
  "anaconda-cloud": {},
  "kernelspec": {
   "display_name": "Python [conda root]",
   "language": "python",
   "name": "conda-root-py"
  },
  "language_info": {
   "codemirror_mode": {
    "name": "ipython",
    "version": 3
   },
   "file_extension": ".py",
   "mimetype": "text/x-python",
   "name": "python",
   "nbconvert_exporter": "python",
   "pygments_lexer": "ipython3",
   "version": "3.5.2"
  }
 },
 "nbformat": 4,
 "nbformat_minor": 1
}
